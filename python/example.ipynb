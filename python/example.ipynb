{
 "cells": [
  {
   "cell_type": "markdown",
   "id": "c29533bf",
   "metadata": {},
   "source": [
    "TICTAC: Target illumination clinical trials analytics with cheminformatics"
   ]
  },
  {
   "cell_type": "markdown",
   "id": "3d771f14",
   "metadata": {},
   "source": [
    "Disease-Target links (via study, drug) => sddt_links.tsv"
   ]
  },
  {
   "attachments": {},
   "cell_type": "markdown",
   "id": "dd1b2fc9",
   "metadata": {},
   "source": [
    "Columns - six columns\n",
    "    uniprot\t\n",
    "    CID\t\n",
    "    nct_id\t\n",
    "    doid\t\n",
    "    disease_term\t\n",
    "    itv_id\t\n",
    "    drug_name\t\n",
    "    target_chembl_id\t\n",
    "    molecule_chembl_id\t\n",
    "    gene_symbol\t\n",
    "    idgTDL"
   ]
  },
  {
   "cell_type": "code",
   "execution_count": 1,
   "id": "a731c2d1",
   "metadata": {},
   "outputs": [
    {
     "data": {
      "text/html": [
       "<div>\n",
       "<style scoped>\n",
       "    .dataframe tbody tr th:only-of-type {\n",
       "        vertical-align: middle;\n",
       "    }\n",
       "\n",
       "    .dataframe tbody tr th {\n",
       "        vertical-align: top;\n",
       "    }\n",
       "\n",
       "    .dataframe thead th {\n",
       "        text-align: right;\n",
       "    }\n",
       "</style>\n",
       "<table border=\"1\" class=\"dataframe\">\n",
       "  <thead>\n",
       "    <tr style=\"text-align: right;\">\n",
       "      <th></th>\n",
       "      <th>nct_id</th>\n",
       "      <th>disease_term</th>\n",
       "      <th>drug_name</th>\n",
       "      <th>gene_symbol</th>\n",
       "    </tr>\n",
       "  </thead>\n",
       "  <tbody>\n",
       "    <tr>\n",
       "      <th>0</th>\n",
       "      <td>NCT00157716</td>\n",
       "      <td>stroke</td>\n",
       "      <td>Pyridoxal</td>\n",
       "      <td>KDM4E</td>\n",
       "    </tr>\n",
       "    <tr>\n",
       "      <th>1</th>\n",
       "      <td>NCT00157716</td>\n",
       "      <td>coronary artery disease</td>\n",
       "      <td>Pyridoxal</td>\n",
       "      <td>KDM4E</td>\n",
       "    </tr>\n",
       "    <tr>\n",
       "      <th>2</th>\n",
       "      <td>NCT00157716</td>\n",
       "      <td>ischemia</td>\n",
       "      <td>Pyridoxal</td>\n",
       "      <td>KDM4E</td>\n",
       "    </tr>\n",
       "    <tr>\n",
       "      <th>3</th>\n",
       "      <td>NCT00157716</td>\n",
       "      <td>unstable angina</td>\n",
       "      <td>Pyridoxal</td>\n",
       "      <td>KDM4E</td>\n",
       "    </tr>\n",
       "    <tr>\n",
       "      <th>4</th>\n",
       "      <td>NCT00157716</td>\n",
       "      <td>myocardial infarction</td>\n",
       "      <td>Pyridoxal</td>\n",
       "      <td>KDM4E</td>\n",
       "    </tr>\n",
       "  </tbody>\n",
       "</table>\n",
       "</div>"
      ],
      "text/plain": [
       "        nct_id             disease_term  drug_name gene_symbol\n",
       "0  NCT00157716                   stroke  Pyridoxal       KDM4E\n",
       "1  NCT00157716  coronary artery disease  Pyridoxal       KDM4E\n",
       "2  NCT00157716                 ischemia  Pyridoxal       KDM4E\n",
       "3  NCT00157716          unstable angina  Pyridoxal       KDM4E\n",
       "4  NCT00157716    myocardial infarction  Pyridoxal       KDM4E"
      ]
     },
     "execution_count": 1,
     "metadata": {},
     "output_type": "execute_result"
    }
   ],
   "source": [
    "import pandas as pd\n",
    "df = pd.read_csv('example.tsv', sep = '\\t')\n",
    "df.head()"
   ]
  },
  {
   "cell_type": "markdown",
   "id": "c8470cd1",
   "metadata": {},
   "source": [
    "Approach\n",
    "\n",
    "1. Define a 'triplet term'\n",
    "\n",
    "        triple term = disease_term, drug_name and gene_symbol combined together.\n",
    "\n",
    "2. Define a function, ddg_triplet_pair \n",
    "        \n",
    "        as disease_term+drug_name+gene_symbol then make a count of triplet pair"
   ]
  },
  {
   "cell_type": "markdown",
   "id": "0e09446c",
   "metadata": {},
   "source": [
    "The ddg_triplet_pair function \n",
    "\n",
    "    concatenates the values from the disease_term, drug_name, and gene_symbol columns for each row. \n",
    "\n",
    "The apply method \n",
    "        \n",
    "        apply this function to each row of the DataFrame, resulting in a new column triplet_pair. \n",
    "\n",
    "The value_counts method \n",
    "\n",
    "        counts the occurrences of each unique triplet pair in the DataFrame.\n",
    "\n",
    "You can access the count for a specific triplet pair using the triplet_pair_counts variable, for example, triplet_pair_counts['strokePyridoxalKDM4E'] will give you the count of the triplet pair 'strokePyridoxalKDM4E'."
   ]
  },
  {
   "cell_type": "code",
   "execution_count": 4,
   "id": "ad3715d4",
   "metadata": {},
   "outputs": [],
   "source": [
    "import pandas as pd\n",
    "\n",
    "def ddg_triplet_pair(row):\n",
    "    disease = str(row['disease_term']) if pd.notnull(row['disease_term']) else ''\n",
    "    drug = str(row['drug_name']) if pd.notnull(row['drug_name']) else ''\n",
    "    gene = str(row['gene_symbol']) if pd.notnull(row['gene_symbol']) else ''\n",
    "    return disease + drug + gene\n",
    "\n",
    "df['triplet_pair'] = df.apply(ddg_triplet_pair, axis=1)\n",
    "\n",
    "triplet_pair_counts = df['triplet_pair'].value_counts()\n",
    "\n",
    "def count_nct_id(row):\n",
    "    triplet_pair = str(row['disease_term']) + str(row['drug_name']) + str(row['gene_symbol'])\n",
    "    return df.loc[df['triplet_pair'] == triplet_pair, 'nct_id'].nunique()\n",
    "\n",
    "df['nct_id_count'] = df.apply(count_nct_id, axis=1)\n",
    "\n",
    "triplet_nct_counts = df.groupby('triplet_pair')['nct_id'].nunique().reset_index()"
   ]
  },
  {
   "cell_type": "code",
   "execution_count": 5,
   "id": "5f1cba0f",
   "metadata": {},
   "outputs": [
    {
     "data": {
      "text/html": [
       "<div>\n",
       "<style scoped>\n",
       "    .dataframe tbody tr th:only-of-type {\n",
       "        vertical-align: middle;\n",
       "    }\n",
       "\n",
       "    .dataframe tbody tr th {\n",
       "        vertical-align: top;\n",
       "    }\n",
       "\n",
       "    .dataframe thead th {\n",
       "        text-align: right;\n",
       "    }\n",
       "</style>\n",
       "<table border=\"1\" class=\"dataframe\">\n",
       "  <thead>\n",
       "    <tr style=\"text-align: right;\">\n",
       "      <th></th>\n",
       "      <th>triplet_pair</th>\n",
       "      <th>nct_id</th>\n",
       "    </tr>\n",
       "  </thead>\n",
       "  <tbody>\n",
       "    <tr>\n",
       "      <th>16</th>\n",
       "      <td>hypertensionCandesartan cilexetilKDM4E</td>\n",
       "      <td>3</td>\n",
       "    </tr>\n",
       "    <tr>\n",
       "      <th>19</th>\n",
       "      <td>ischemiaPyridoxalKDM4E</td>\n",
       "      <td>2</td>\n",
       "    </tr>\n",
       "    <tr>\n",
       "      <th>34</th>\n",
       "      <td>strokePyridoxalKDM4E</td>\n",
       "      <td>2</td>\n",
       "    </tr>\n",
       "    <tr>\n",
       "      <th>23</th>\n",
       "      <td>myocardial infarctionPyridoxalKDM4E</td>\n",
       "      <td>2</td>\n",
       "    </tr>\n",
       "    <tr>\n",
       "      <th>38</th>\n",
       "      <td>unstable anginaPyridoxalKDM4E</td>\n",
       "      <td>2</td>\n",
       "    </tr>\n",
       "  </tbody>\n",
       "</table>\n",
       "</div>"
      ],
      "text/plain": [
       "                              triplet_pair  nct_id\n",
       "16  hypertensionCandesartan cilexetilKDM4E       3\n",
       "19                  ischemiaPyridoxalKDM4E       2\n",
       "34                    strokePyridoxalKDM4E       2\n",
       "23     myocardial infarctionPyridoxalKDM4E       2\n",
       "38           unstable anginaPyridoxalKDM4E       2"
      ]
     },
     "execution_count": 5,
     "metadata": {},
     "output_type": "execute_result"
    }
   ],
   "source": [
    "triplet_nct_counts_sorted = triplet_nct_counts.sort_values('nct_id', ascending=False)\n",
    "triplet_nct_counts_sorted.head()"
   ]
  },
  {
   "cell_type": "code",
   "execution_count": 6,
   "id": "2f7c1cfd",
   "metadata": {},
   "outputs": [
    {
     "data": {
      "text/plain": [
       "array(['NCT00157716', 'NCT00157729', 'NCT00402506', 'NCT00917293',\n",
       "       'NCT00081731', 'NCT00120003', 'NCT00125463', 'NCT00184587',\n",
       "       'NCT01012479', 'NCT01052272', 'NCT01135212', 'NCT01289132'],\n",
       "      dtype=object)"
      ]
     },
     "execution_count": 6,
     "metadata": {},
     "output_type": "execute_result"
    }
   ],
   "source": [
    "#Next is to consider the other variables - work backwards using nct_id\n",
    "df['nct_id'].unique()"
   ]
  },
  {
   "cell_type": "code",
   "execution_count": null,
   "id": "56be8a13",
   "metadata": {},
   "outputs": [],
   "source": []
  },
  {
   "cell_type": "markdown",
   "id": "c0956e96",
   "metadata": {},
   "source": [
    "Evidence variables\n",
    "\n",
    "nStudy - Study count for association\n",
    "\n",
    "nStudyNewness - Study count weighted by newness of study (newer better)\n",
    "\n",
    "nStudyPhase - Study count weighted by phase of study (completed better)\n",
    "\n",
    "nPub - Study publications\n",
    "\n",
    "nPubTypes - Study publications (results better)\n",
    "\n",
    "\n",
    "drug-target association\n",
    "    \n",
    "    nAssay - Assay count \n",
    "    \n",
    "    nAssayPchembl - Assay count weighted by pChembl\n",
    "\n",
    "disease-target association\n",
    "    \n",
    "    nDiseaseMention_aact - Disease mention count (in AACT)\n",
    "    nDiseaseMention_pubmed - Disease mention count (in papers)\n",
    "    nDrugMention_aact - Drug mention count (in AACT)\n",
    "    nDrugMention_pubmed - Drug mention count (in papers)\n",
    "    nDrug - Drug count"
   ]
  }
 ],
 "metadata": {
  "kernelspec": {
   "display_name": "Python 3",
   "language": "python",
   "name": "python3"
  },
  "language_info": {
   "codemirror_mode": {
    "name": "ipython",
    "version": 3
   },
   "file_extension": ".py",
   "mimetype": "text/x-python",
   "name": "python",
   "nbconvert_exporter": "python",
   "pygments_lexer": "ipython3",
   "version": "3.8.10"
  }
 },
 "nbformat": 4,
 "nbformat_minor": 5
}
