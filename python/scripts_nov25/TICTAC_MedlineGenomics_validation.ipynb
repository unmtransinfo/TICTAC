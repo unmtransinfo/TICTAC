{
 "cells": [
  {
   "cell_type": "markdown",
   "metadata": {
    "colab_type": "text",
    "id": "view-in-github"
   },
   "source": [
    "<a href=\"https://colab.research.google.com/github/unmtransinfo/TICTAC/blob/master/python/TICTAC_MedlineGenomics_validation.ipynb\" target=\"_parent\"><img src=\"https://colab.research.google.com/assets/colab-badge.svg\" alt=\"Open In Colab\"/></a>"
   ]
  },
  {
   "cell_type": "markdown",
   "metadata": {
    "id": "HTEyrk8ENYQh"
   },
   "source": [
    "# TICTAC-MedlineGenomics Validation\n",
    "Compare TICTAC disease-gene associations with Medline Genomics (formerly Genetics Home Reference) associations for the same conditions.\n",
    "Map diseases via DOID and common UMLS CUIs."
   ]
  },
  {
   "cell_type": "code",
   "execution_count": 1,
   "metadata": {
    "id": "uaZlnqxZHcER"
   },
   "outputs": [],
   "source": [
    "import sys, os, re\n",
    "import pandas as pd"
   ]
  },
  {
   "cell_type": "markdown",
   "metadata": {
    "id": "GAh8dP9qOAoH"
   },
   "source": [
    "### Read DO2UMLS mapping file.\n",
    "DO2UMLS mapping file from Disease Ontology."
   ]
  },
  {
   "cell_type": "code",
   "execution_count": 2,
   "metadata": {
    "colab": {
     "base_uri": "https://localhost:8080/"
    },
    "id": "XGBYAmQFH7Vh",
    "outputId": "ca2a73b2-e33d-495a-fb02-7d75454c29b2"
   },
   "outputs": [
    {
     "name": "stdout",
     "output_type": "stream",
     "text": [
      "Unique DOIDs: 6300\n"
     ]
    }
   ],
   "source": [
    "do2cui = pd.read_csv(\"https://raw.githubusercontent.com/unmtransinfo/TICTAC/master/input/do_umls_mapping.csv\")\n",
    "print(f\"\"\"Unique DOIDs: {do2cui[\"id\"].unique().size}\"\"\")\n",
    "do2cui.columns = [\"doid\", \"do_label\", \"umls_cui\"]"
   ]
  },
  {
   "cell_type": "markdown",
   "metadata": {
    "id": "ekJG0PanNKpJ"
   },
   "source": [
    "Split UMLS CUIs delimited by vertical bars."
   ]
  },
  {
   "cell_type": "code",
   "execution_count": 3,
   "metadata": {
    "colab": {
     "base_uri": "https://localhost:8080/",
     "height": 318
    },
    "id": "yyQccwaGNSNx",
    "outputId": "b6e9ddf3-f871-4c88-b1fa-17cb5fc8390a"
   },
   "outputs": [
    {
     "name": "stderr",
     "output_type": "stream",
     "text": [
      "/tmp/ipykernel_599749/3833940949.py:1: FutureWarning: the convert_dtype parameter is deprecated and will be removed in a future version.  Do ``ser.astype(object).apply()`` instead if you want ``convert_dtype=False``.\n",
      "  s = do2cui['umls_cui'].str.split('|').apply(pd.Series, 1).stack()\n"
     ]
    },
    {
     "name": "stdout",
     "output_type": "stream",
     "text": [
      "Unique DOIDs: 6300; CUIs: 6856\n"
     ]
    },
    {
     "data": {
      "text/html": [
       "<div>\n",
       "<style scoped>\n",
       "    .dataframe tbody tr th:only-of-type {\n",
       "        vertical-align: middle;\n",
       "    }\n",
       "\n",
       "    .dataframe tbody tr th {\n",
       "        vertical-align: top;\n",
       "    }\n",
       "\n",
       "    .dataframe thead th {\n",
       "        text-align: right;\n",
       "    }\n",
       "</style>\n",
       "<table border=\"1\" class=\"dataframe\">\n",
       "  <thead>\n",
       "    <tr style=\"text-align: right;\">\n",
       "      <th></th>\n",
       "      <th>doid</th>\n",
       "      <th>do_label</th>\n",
       "      <th>umls_cui</th>\n",
       "    </tr>\n",
       "  </thead>\n",
       "  <tbody>\n",
       "    <tr>\n",
       "      <th>3180</th>\n",
       "      <td>DOID:2986</td>\n",
       "      <td>IgA glomerulonephritis</td>\n",
       "      <td>UMLS_CUI:C0017661</td>\n",
       "    </tr>\n",
       "    <tr>\n",
       "      <th>3790</th>\n",
       "      <td>DOID:4114</td>\n",
       "      <td>uterine body mixed cancer</td>\n",
       "      <td>UMLS_CUI:C1334628</td>\n",
       "    </tr>\n",
       "    <tr>\n",
       "      <th>3157</th>\n",
       "      <td>DOID:2938</td>\n",
       "      <td>Epstein-Barr virus infectious disease</td>\n",
       "      <td>UMLS_CUI:C0149678</td>\n",
       "    </tr>\n",
       "    <tr>\n",
       "      <th>5771</th>\n",
       "      <td>DOID:8533</td>\n",
       "      <td>hypopharynx cancer</td>\n",
       "      <td>UMLS_CUI:C0496770</td>\n",
       "    </tr>\n",
       "    <tr>\n",
       "      <th>2242</th>\n",
       "      <td>DOID:14000</td>\n",
       "      <td>rubeosis iridis</td>\n",
       "      <td>UMLS_CUI:C0154916</td>\n",
       "    </tr>\n",
       "    <tr>\n",
       "      <th>4863</th>\n",
       "      <td>DOID:6098</td>\n",
       "      <td>thalamic neoplasm</td>\n",
       "      <td>UMLS_CUI:C0346902</td>\n",
       "    </tr>\n",
       "    <tr>\n",
       "      <th>2222</th>\n",
       "      <td>DOID:13948</td>\n",
       "      <td>bladder neck obstruction</td>\n",
       "      <td>UMLS_CUI:C0005694</td>\n",
       "    </tr>\n",
       "    <tr>\n",
       "      <th>1795</th>\n",
       "      <td>DOID:12668</td>\n",
       "      <td>abnormal retinal correspondence</td>\n",
       "      <td>UMLS_CUI:C0155010</td>\n",
       "    </tr>\n",
       "  </tbody>\n",
       "</table>\n",
       "</div>"
      ],
      "text/plain": [
       "            doid                               do_label           umls_cui\n",
       "3180   DOID:2986                 IgA glomerulonephritis  UMLS_CUI:C0017661\n",
       "3790   DOID:4114              uterine body mixed cancer  UMLS_CUI:C1334628\n",
       "3157   DOID:2938  Epstein-Barr virus infectious disease  UMLS_CUI:C0149678\n",
       "5771   DOID:8533                     hypopharynx cancer  UMLS_CUI:C0496770\n",
       "2242  DOID:14000                        rubeosis iridis  UMLS_CUI:C0154916\n",
       "4863   DOID:6098                      thalamic neoplasm  UMLS_CUI:C0346902\n",
       "2222  DOID:13948               bladder neck obstruction  UMLS_CUI:C0005694\n",
       "1795  DOID:12668        abnormal retinal correspondence  UMLS_CUI:C0155010"
      ]
     },
     "execution_count": 3,
     "metadata": {},
     "output_type": "execute_result"
    }
   ],
   "source": [
    "s = do2cui['umls_cui'].str.split('|').apply(pd.Series, 1).stack()\n",
    "s.index = s.index.droplevel(-1)\n",
    "s.name = 'umls_cui'\n",
    "del do2cui['umls_cui']\n",
    "do2cui = do2cui.join(s)\n",
    "print(f\"\"\"Unique DOIDs: {do2cui[\"doid\"].unique().size}; CUIs: {do2cui[\"umls_cui\"].unique().size}\"\"\")\n",
    "do2cui.sample(8)"
   ]
  },
  {
   "cell_type": "markdown",
   "metadata": {
    "id": "C301F8PNR2Fa"
   },
   "source": [
    "### Read Medline file.\n",
    "Split CUIs delimited by commas.\n",
    "Remove rows without CUIs."
   ]
  },
  {
   "cell_type": "code",
   "execution_count": 4,
   "metadata": {
    "colab": {
     "base_uri": "https://localhost:8080/",
     "height": 335
    },
    "id": "5nMz69poR6bo",
    "outputId": "f0b60c7d-4422-45b7-858c-6241505b89ea"
   },
   "outputs": [
    {
     "name": "stdout",
     "output_type": "stream",
     "text": [
      "Unique MedlineIDs: 1273\n"
     ]
    },
    {
     "name": "stderr",
     "output_type": "stream",
     "text": [
      "/tmp/ipykernel_599749/2509767843.py:4: FutureWarning: the convert_dtype parameter is deprecated and will be removed in a future version.  Do ``ser.astype(object).apply()`` instead if you want ``convert_dtype=False``.\n",
      "  s = medgen['umls_cui'].str.split(',').apply(pd.Series, 1).stack()\n"
     ]
    },
    {
     "name": "stdout",
     "output_type": "stream",
     "text": [
      "Unique MedlineIDs (with CUIs): 1216; CUIs: 2142\n"
     ]
    },
    {
     "data": {
      "text/html": [
       "<div>\n",
       "<style scoped>\n",
       "    .dataframe tbody tr th:only-of-type {\n",
       "        vertical-align: middle;\n",
       "    }\n",
       "\n",
       "    .dataframe tbody tr th {\n",
       "        vertical-align: top;\n",
       "    }\n",
       "\n",
       "    .dataframe thead th {\n",
       "        text-align: right;\n",
       "    }\n",
       "</style>\n",
       "<table border=\"1\" class=\"dataframe\">\n",
       "  <thead>\n",
       "    <tr style=\"text-align: right;\">\n",
       "      <th></th>\n",
       "      <th>medline_id</th>\n",
       "      <th>medline_name</th>\n",
       "      <th>umls_cui</th>\n",
       "    </tr>\n",
       "  </thead>\n",
       "  <tbody>\n",
       "    <tr>\n",
       "      <th>1</th>\n",
       "      <td>15q11-q13-duplication-syndrome</td>\n",
       "      <td>15q11-q13 duplication syndrome</td>\n",
       "      <td>UMLS_CUI:C2675336</td>\n",
       "    </tr>\n",
       "    <tr>\n",
       "      <th>186</th>\n",
       "      <td>blepharocheilodontic-syndrome</td>\n",
       "      <td>Blepharocheilodontic syndrome</td>\n",
       "      <td>UMLS_CUI:C4551988</td>\n",
       "    </tr>\n",
       "    <tr>\n",
       "      <th>233</th>\n",
       "      <td>cerebral-folate-transport-deficiency</td>\n",
       "      <td>Cerebral folate transport deficiency</td>\n",
       "      <td>UMLS_CUI:C2751584</td>\n",
       "    </tr>\n",
       "    <tr>\n",
       "      <th>163</th>\n",
       "      <td>bare-lymphocyte-syndrome-type-ii</td>\n",
       "      <td>Bare lymphocyte syndrome type II</td>\n",
       "      <td>UMLS_CUI:C1859534</td>\n",
       "    </tr>\n",
       "    <tr>\n",
       "      <th>922</th>\n",
       "      <td>parkinsons-disease</td>\n",
       "      <td>Parkinson's disease</td>\n",
       "      <td>UMLS_CUI:C2751842</td>\n",
       "    </tr>\n",
       "    <tr>\n",
       "      <th>851</th>\n",
       "      <td>naegeli-franceschetti-jadassohn-syndrome-derma...</td>\n",
       "      <td>Naegeli-Franceschetti-Jadassohn syndrome/derma...</td>\n",
       "      <td>UMLS_CUI:C0343111</td>\n",
       "    </tr>\n",
       "    <tr>\n",
       "      <th>117</th>\n",
       "      <td>aromatic-l-amino-acid-decarboxylase-deficiency</td>\n",
       "      <td>Aromatic l-amino acid decarboxylase deficiency</td>\n",
       "      <td>UMLS_CUI:C1291564</td>\n",
       "    </tr>\n",
       "    <tr>\n",
       "      <th>168</th>\n",
       "      <td>beckwith-wiedemann-syndrome</td>\n",
       "      <td>Beckwith-Wiedemann syndrome</td>\n",
       "      <td>UMLS_CUI:C0004903</td>\n",
       "    </tr>\n",
       "  </tbody>\n",
       "</table>\n",
       "</div>"
      ],
      "text/plain": [
       "                                            medline_id  \\\n",
       "1                       15q11-q13-duplication-syndrome   \n",
       "186                      blepharocheilodontic-syndrome   \n",
       "233               cerebral-folate-transport-deficiency   \n",
       "163                   bare-lymphocyte-syndrome-type-ii   \n",
       "922                                 parkinsons-disease   \n",
       "851  naegeli-franceschetti-jadassohn-syndrome-derma...   \n",
       "117     aromatic-l-amino-acid-decarboxylase-deficiency   \n",
       "168                        beckwith-wiedemann-syndrome   \n",
       "\n",
       "                                          medline_name           umls_cui  \n",
       "1                       15q11-q13 duplication syndrome  UMLS_CUI:C2675336  \n",
       "186                      Blepharocheilodontic syndrome  UMLS_CUI:C4551988  \n",
       "233               Cerebral folate transport deficiency  UMLS_CUI:C2751584  \n",
       "163                   Bare lymphocyte syndrome type II  UMLS_CUI:C1859534  \n",
       "922                                Parkinson's disease  UMLS_CUI:C2751842  \n",
       "851  Naegeli-Franceschetti-Jadassohn syndrome/derma...  UMLS_CUI:C0343111  \n",
       "117     Aromatic l-amino acid decarboxylase deficiency  UMLS_CUI:C1291564  \n",
       "168                        Beckwith-Wiedemann syndrome  UMLS_CUI:C0004903  "
      ]
     },
     "execution_count": 4,
     "metadata": {},
     "output_type": "execute_result"
    }
   ],
   "source": [
    "medgen = pd.read_csv(\"https://raw.githubusercontent.com/unmtransinfo/TICTAC/master/output/medline_genetics_conditions_xrefs.tsv\", sep=\"\\t\", usecols = [\"id\", \"name\", \"GTR\"])\n",
    "medgen.columns = [\"medline_id\", \"medline_name\", \"umls_cui\"]\n",
    "print(f\"\"\"Unique MedlineIDs: {medgen[\"medline_id\"].unique().size}\"\"\")\n",
    "s = medgen['umls_cui'].str.split(',').apply(pd.Series, 1).stack()\n",
    "s.index = s.index.droplevel(-1)\n",
    "s.name = 'umls_cui'\n",
    "del medgen['umls_cui']\n",
    "medgen = medgen.join(s)\n",
    "medgen[\"umls_cui\"] = medgen[\"umls_cui\"].str.replace(re.compile(r\"^\"), \"UMLS_CUI:\", regex=True)\n",
    "medgen = medgen.loc[medgen.umls_cui.notna()]\n",
    "print(f\"\"\"Unique MedlineIDs (with CUIs): {medgen[\"medline_id\"].unique().size}; CUIs: {medgen[\"umls_cui\"].unique().size}\"\"\")\n",
    "medgen.sample(8)"
   ]
  },
  {
   "cell_type": "markdown",
   "metadata": {
    "id": "Uxvh5W-KsuH-"
   },
   "source": [
    "### Join Medline with DOID2CUI mappings."
   ]
  },
  {
   "cell_type": "code",
   "execution_count": 5,
   "metadata": {
    "colab": {
     "base_uri": "https://localhost:8080/",
     "height": 300
    },
    "id": "AG84aK2-s1ys",
    "outputId": "3ffe7126-89ae-402e-fb21-5d2bbdf272d2"
   },
   "outputs": [
    {
     "data": {
      "text/html": [
       "<div>\n",
       "<style scoped>\n",
       "    .dataframe tbody tr th:only-of-type {\n",
       "        vertical-align: middle;\n",
       "    }\n",
       "\n",
       "    .dataframe tbody tr th {\n",
       "        vertical-align: top;\n",
       "    }\n",
       "\n",
       "    .dataframe thead th {\n",
       "        text-align: right;\n",
       "    }\n",
       "</style>\n",
       "<table border=\"1\" class=\"dataframe\">\n",
       "  <thead>\n",
       "    <tr style=\"text-align: right;\">\n",
       "      <th></th>\n",
       "      <th>medline_id</th>\n",
       "      <th>medline_name</th>\n",
       "      <th>umls_cui</th>\n",
       "      <th>doid</th>\n",
       "      <th>do_label</th>\n",
       "    </tr>\n",
       "  </thead>\n",
       "  <tbody>\n",
       "    <tr>\n",
       "      <th>961</th>\n",
       "      <td>hereditary-paraganglioma-pheochromocytoma</td>\n",
       "      <td>Hereditary paraganglioma-pheochromocytoma</td>\n",
       "      <td>UMLS_CUI:C1854336</td>\n",
       "      <td>NaN</td>\n",
       "      <td>NaN</td>\n",
       "    </tr>\n",
       "    <tr>\n",
       "      <th>2071</th>\n",
       "      <td>usher-syndrome</td>\n",
       "      <td>Usher syndrome</td>\n",
       "      <td>UMLS_CUI:C3281066</td>\n",
       "      <td>NaN</td>\n",
       "      <td>NaN</td>\n",
       "    </tr>\n",
       "    <tr>\n",
       "      <th>270</th>\n",
       "      <td>bartter-syndrome</td>\n",
       "      <td>Bartter syndrome</td>\n",
       "      <td>UMLS_CUI:CN239220</td>\n",
       "      <td>NaN</td>\n",
       "      <td>NaN</td>\n",
       "    </tr>\n",
       "    <tr>\n",
       "      <th>1075</th>\n",
       "      <td>isolated-growth-hormone-deficiency</td>\n",
       "      <td>Isolated growth hormone deficiency</td>\n",
       "      <td>UMLS_CUI:C0342573</td>\n",
       "      <td>NaN</td>\n",
       "      <td>NaN</td>\n",
       "    </tr>\n",
       "    <tr>\n",
       "      <th>1233</th>\n",
       "      <td>lynch-syndrome</td>\n",
       "      <td>Lynch syndrome</td>\n",
       "      <td>UMLS_CUI:C1838333</td>\n",
       "      <td>NaN</td>\n",
       "      <td>NaN</td>\n",
       "    </tr>\n",
       "    <tr>\n",
       "      <th>1856</th>\n",
       "      <td>schindler-disease</td>\n",
       "      <td>Schindler disease</td>\n",
       "      <td>UMLS_CUI:C1836522</td>\n",
       "      <td>NaN</td>\n",
       "      <td>NaN</td>\n",
       "    </tr>\n",
       "    <tr>\n",
       "      <th>537</th>\n",
       "      <td>costello-syndrome</td>\n",
       "      <td>Costello syndrome</td>\n",
       "      <td>UMLS_CUI:C0587248</td>\n",
       "      <td>DOID:0050469</td>\n",
       "      <td>Costello syndrome</td>\n",
       "    </tr>\n",
       "    <tr>\n",
       "      <th>238</th>\n",
       "      <td>autosomal-recessive-congenital-stationary-nigh...</td>\n",
       "      <td>Autosomal recessive congenital stationary nigh...</td>\n",
       "      <td>UMLS_CUI:C1850362</td>\n",
       "      <td>NaN</td>\n",
       "      <td>NaN</td>\n",
       "    </tr>\n",
       "  </tbody>\n",
       "</table>\n",
       "</div>"
      ],
      "text/plain": [
       "                                             medline_id  \\\n",
       "961           hereditary-paraganglioma-pheochromocytoma   \n",
       "2071                                     usher-syndrome   \n",
       "270                                    bartter-syndrome   \n",
       "1075                 isolated-growth-hormone-deficiency   \n",
       "1233                                     lynch-syndrome   \n",
       "1856                                  schindler-disease   \n",
       "537                                   costello-syndrome   \n",
       "238   autosomal-recessive-congenital-stationary-nigh...   \n",
       "\n",
       "                                           medline_name           umls_cui  \\\n",
       "961           Hereditary paraganglioma-pheochromocytoma  UMLS_CUI:C1854336   \n",
       "2071                                     Usher syndrome  UMLS_CUI:C3281066   \n",
       "270                                    Bartter syndrome  UMLS_CUI:CN239220   \n",
       "1075                 Isolated growth hormone deficiency  UMLS_CUI:C0342573   \n",
       "1233                                     Lynch syndrome  UMLS_CUI:C1838333   \n",
       "1856                                  Schindler disease  UMLS_CUI:C1836522   \n",
       "537                                   Costello syndrome  UMLS_CUI:C0587248   \n",
       "238   Autosomal recessive congenital stationary nigh...  UMLS_CUI:C1850362   \n",
       "\n",
       "              doid           do_label  \n",
       "961            NaN                NaN  \n",
       "2071           NaN                NaN  \n",
       "270            NaN                NaN  \n",
       "1075           NaN                NaN  \n",
       "1233           NaN                NaN  \n",
       "1856           NaN                NaN  \n",
       "537   DOID:0050469  Costello syndrome  \n",
       "238            NaN                NaN  "
      ]
     },
     "execution_count": 5,
     "metadata": {},
     "output_type": "execute_result"
    }
   ],
   "source": [
    "medgen2 = pd.merge(medgen, do2cui, how=\"left\", on=\"umls_cui\")\n",
    "medgen2.sample(8)"
   ]
  },
  {
   "cell_type": "code",
   "execution_count": 7,
   "metadata": {},
   "outputs": [
    {
     "name": "stdout",
     "output_type": "stream",
     "text": [
      "Unique TICTAC DOIDs: 2243; gene symbols: 2022\n",
      "                doid gene_symbol  mean_rank_score\n",
      "278808    DOID:13868       NPY2R        65.091255\n",
      "84843      DOID:3817     ADORA2A        89.376640\n",
      "753648    DOID:10021        NEK3        17.253820\n",
      "48258     DOID:10762       EHMT2        93.956734\n",
      "520747  DOID:0080746        ESR1        34.804306\n",
      "393065     DOID:4202         SRC        50.777668\n",
      "68964      DOID:6543         GBA        91.363762\n",
      "753310  DOID:0080547        HMBS        17.253820\n"
     ]
    }
   ],
   "source": [
    "##Read TICTAC disease-gene associations\n",
    "\n",
    "import pandas as pd\n",
    "import re\n",
    "\n",
    "# Path to the new .parquet file\n",
    "parquet_path = \"disease_target_association_with_doid.parquet\"\n",
    "\n",
    "# Read the Parquet file\n",
    "tictac = pd.read_parquet(parquet_path)\n",
    "\n",
    "# Rename columns if necessary (ensure compatibility with the old script structure)\n",
    "tictac.rename(columns={\n",
    "    \"meanRankScore\": \"mean_rank_score\",\n",
    "    \"disease_term\": \"disease_name\"  # Replace with the actual column name for disease in the Parquet file if different\n",
    "}, inplace=True)\n",
    "\n",
    "# Format the DOID column to match the required format\n",
    "tictac[\"doid\"] = tictac[\"doid\"].str.replace(re.compile(r\"^doid:\"), \"DOID:\", regex=True)\n",
    "\n",
    "# Select the necessary columns (ensure `tcrdTargetName` exists or adjust if not present)\n",
    "tictac = tictac[[\"doid\", \"gene_symbol\", \"mean_rank_score\"]]\n",
    "\n",
    "# Summary information\n",
    "unique_doids = tictac[\"doid\"].nunique()\n",
    "unique_genes = tictac[\"gene_symbol\"].nunique()\n",
    "print(f\"Unique TICTAC DOIDs: {unique_doids}; gene symbols: {unique_genes}\")\n",
    "\n",
    "# Display a sample of the dataset\n",
    "print(tictac.sample(8))"
   ]
  },
  {
   "cell_type": "markdown",
   "metadata": {
    "id": "8KxWuqBAxOxn"
   },
   "source": [
    "### Read TICTAC disease-gene associations."
   ]
  },
  {
   "cell_type": "markdown",
   "metadata": {
    "id": "iJYNQKf30Kwj"
   },
   "source": [
    "Join with DOID2CUI file."
   ]
  },
  {
   "cell_type": "code",
   "execution_count": 9,
   "metadata": {
    "colab": {
     "base_uri": "https://localhost:8080/",
     "height": 300
    },
    "id": "oNAa2-Wz0N70",
    "outputId": "45bcc28e-59e9-43cb-e7a6-6fd1388c2468"
   },
   "outputs": [
    {
     "data": {
      "text/html": [
       "<div>\n",
       "<style scoped>\n",
       "    .dataframe tbody tr th:only-of-type {\n",
       "        vertical-align: middle;\n",
       "    }\n",
       "\n",
       "    .dataframe tbody tr th {\n",
       "        vertical-align: top;\n",
       "    }\n",
       "\n",
       "    .dataframe thead th {\n",
       "        text-align: right;\n",
       "    }\n",
       "</style>\n",
       "<table border=\"1\" class=\"dataframe\">\n",
       "  <thead>\n",
       "    <tr style=\"text-align: right;\">\n",
       "      <th></th>\n",
       "      <th>doid</th>\n",
       "      <th>gene_symbol</th>\n",
       "      <th>mean_rank_score</th>\n",
       "      <th>do_label</th>\n",
       "      <th>umls_cui</th>\n",
       "    </tr>\n",
       "  </thead>\n",
       "  <tbody>\n",
       "    <tr>\n",
       "      <th>403801</th>\n",
       "      <td>DOID:8567</td>\n",
       "      <td>BRDT</td>\n",
       "      <td>61.679913</td>\n",
       "      <td>Hodgkin's lymphoma</td>\n",
       "      <td>UMLS_CUI:C0019829</td>\n",
       "    </tr>\n",
       "    <tr>\n",
       "      <th>105083</th>\n",
       "      <td>DOID:11265</td>\n",
       "      <td>CYP2E1</td>\n",
       "      <td>90.405640</td>\n",
       "      <td>trachoma</td>\n",
       "      <td>UMLS_CUI:C0153107</td>\n",
       "    </tr>\n",
       "    <tr>\n",
       "      <th>691779</th>\n",
       "      <td>DOID:4239</td>\n",
       "      <td>ALOX12</td>\n",
       "      <td>32.529533</td>\n",
       "      <td>alveolar soft part sarcoma</td>\n",
       "      <td>UMLS_CUI:C0206657</td>\n",
       "    </tr>\n",
       "    <tr>\n",
       "      <th>747543</th>\n",
       "      <td>DOID:11476</td>\n",
       "      <td>ALOX15B</td>\n",
       "      <td>27.901350</td>\n",
       "      <td>osteoporosis</td>\n",
       "      <td>UMLS_CUI:C0029456</td>\n",
       "    </tr>\n",
       "    <tr>\n",
       "      <th>556569</th>\n",
       "      <td>DOID:0050827</td>\n",
       "      <td>UGT2B4</td>\n",
       "      <td>46.696480</td>\n",
       "      <td>NaN</td>\n",
       "      <td>NaN</td>\n",
       "    </tr>\n",
       "    <tr>\n",
       "      <th>925666</th>\n",
       "      <td>DOID:853</td>\n",
       "      <td>GTPBP4</td>\n",
       "      <td>17.253820</td>\n",
       "      <td>polymyalgia rheumatica</td>\n",
       "      <td>UMLS_CUI:C0032533</td>\n",
       "    </tr>\n",
       "    <tr>\n",
       "      <th>376725</th>\n",
       "      <td>DOID:768</td>\n",
       "      <td>RPS6KA5</td>\n",
       "      <td>64.471375</td>\n",
       "      <td>retinoblastoma</td>\n",
       "      <td>UMLS_CUI:C0035335</td>\n",
       "    </tr>\n",
       "    <tr>\n",
       "      <th>289013</th>\n",
       "      <td>DOID:8545</td>\n",
       "      <td>FAAH</td>\n",
       "      <td>72.797424</td>\n",
       "      <td>malignant hyperthermia</td>\n",
       "      <td>UMLS_CUI:C0024591</td>\n",
       "    </tr>\n",
       "  </tbody>\n",
       "</table>\n",
       "</div>"
      ],
      "text/plain": [
       "                doid gene_symbol  mean_rank_score                    do_label  \\\n",
       "403801     DOID:8567        BRDT        61.679913          Hodgkin's lymphoma   \n",
       "105083    DOID:11265      CYP2E1        90.405640                    trachoma   \n",
       "691779     DOID:4239      ALOX12        32.529533  alveolar soft part sarcoma   \n",
       "747543    DOID:11476     ALOX15B        27.901350                osteoporosis   \n",
       "556569  DOID:0050827      UGT2B4        46.696480                         NaN   \n",
       "925666      DOID:853      GTPBP4        17.253820      polymyalgia rheumatica   \n",
       "376725      DOID:768     RPS6KA5        64.471375              retinoblastoma   \n",
       "289013     DOID:8545        FAAH        72.797424      malignant hyperthermia   \n",
       "\n",
       "                 umls_cui  \n",
       "403801  UMLS_CUI:C0019829  \n",
       "105083  UMLS_CUI:C0153107  \n",
       "691779  UMLS_CUI:C0206657  \n",
       "747543  UMLS_CUI:C0029456  \n",
       "556569                NaN  \n",
       "925666  UMLS_CUI:C0032533  \n",
       "376725  UMLS_CUI:C0035335  \n",
       "289013  UMLS_CUI:C0024591  "
      ]
     },
     "execution_count": 9,
     "metadata": {},
     "output_type": "execute_result"
    }
   ],
   "source": [
    "tictac2 = pd.merge(tictac, do2cui, how=\"left\", on=\"doid\")\n",
    "#del tictac2[\"disease_name\"]\n",
    "tictac2.sample(8)"
   ]
  },
  {
   "cell_type": "markdown",
   "metadata": {
    "id": "jCjOOVMX0yVB"
   },
   "source": [
    "### Read Medline associations file."
   ]
  },
  {
   "cell_type": "code",
   "execution_count": 10,
   "metadata": {
    "colab": {
     "base_uri": "https://localhost:8080/",
     "height": 300
    },
    "id": "Jql9Ub9A02BS",
    "outputId": "7d02c79c-f4c9-4a33-97be-38b7a57d830d"
   },
   "outputs": [
    {
     "name": "stderr",
     "output_type": "stream",
     "text": [
      "/tmp/ipykernel_599749/3523398175.py:3: FutureWarning: the convert_dtype parameter is deprecated and will be removed in a future version.  Do ``ser.astype(object).apply()`` instead if you want ``convert_dtype=False``.\n",
      "  s = medassn['umls_cui'].str.split(',').apply(pd.Series, 1).stack()\n"
     ]
    },
    {
     "data": {
      "text/html": [
       "<div>\n",
       "<style scoped>\n",
       "    .dataframe tbody tr th:only-of-type {\n",
       "        vertical-align: middle;\n",
       "    }\n",
       "\n",
       "    .dataframe tbody tr th {\n",
       "        vertical-align: top;\n",
       "    }\n",
       "\n",
       "    .dataframe thead th {\n",
       "        text-align: right;\n",
       "    }\n",
       "</style>\n",
       "<table border=\"1\" class=\"dataframe\">\n",
       "  <thead>\n",
       "    <tr style=\"text-align: right;\">\n",
       "      <th></th>\n",
       "      <th>medline_id</th>\n",
       "      <th>gene_symbol</th>\n",
       "      <th>umls_cui</th>\n",
       "    </tr>\n",
       "  </thead>\n",
       "  <tbody>\n",
       "    <tr>\n",
       "      <th>1053</th>\n",
       "      <td>cone-rod-dystrophy</td>\n",
       "      <td>CNGB3</td>\n",
       "      <td>UMLS_CUI:C4014856</td>\n",
       "    </tr>\n",
       "    <tr>\n",
       "      <th>2874</th>\n",
       "      <td>myopathy-with-deficiency-of-iron-sulfur-cluste...</td>\n",
       "      <td>ISCU</td>\n",
       "      <td>UMLS_CUI:C1850718</td>\n",
       "    </tr>\n",
       "    <tr>\n",
       "      <th>879</th>\n",
       "      <td>cholangiocarcinoma</td>\n",
       "      <td>CDK6</td>\n",
       "      <td>UMLS_CUI:C3810156</td>\n",
       "    </tr>\n",
       "    <tr>\n",
       "      <th>1945</th>\n",
       "      <td>heterotaxy-syndrome</td>\n",
       "      <td>GDF1</td>\n",
       "      <td>UMLS_CUI:C3178805</td>\n",
       "    </tr>\n",
       "    <tr>\n",
       "      <th>1681</th>\n",
       "      <td>fanconi-anemia</td>\n",
       "      <td>FANCF</td>\n",
       "      <td>UMLS_CUI:C3150653</td>\n",
       "    </tr>\n",
       "    <tr>\n",
       "      <th>4007</th>\n",
       "      <td>trichothiodystrophy</td>\n",
       "      <td>MARS1</td>\n",
       "      <td>UMLS_CUI:C4225420</td>\n",
       "    </tr>\n",
       "    <tr>\n",
       "      <th>1042</th>\n",
       "      <td>common-variable-immune-deficiency</td>\n",
       "      <td>ICOS</td>\n",
       "      <td>UMLS_CUI:C0009447</td>\n",
       "    </tr>\n",
       "    <tr>\n",
       "      <th>1081</th>\n",
       "      <td>cone-rod-dystrophy</td>\n",
       "      <td>POC1B</td>\n",
       "      <td>UMLS_CUI:C3809299</td>\n",
       "    </tr>\n",
       "  </tbody>\n",
       "</table>\n",
       "</div>"
      ],
      "text/plain": [
       "                                             medline_id gene_symbol  \\\n",
       "1053                                 cone-rod-dystrophy       CNGB3   \n",
       "2874  myopathy-with-deficiency-of-iron-sulfur-cluste...        ISCU   \n",
       "879                                  cholangiocarcinoma        CDK6   \n",
       "1945                                heterotaxy-syndrome        GDF1   \n",
       "1681                                     fanconi-anemia       FANCF   \n",
       "4007                                trichothiodystrophy       MARS1   \n",
       "1042                  common-variable-immune-deficiency        ICOS   \n",
       "1081                                 cone-rod-dystrophy       POC1B   \n",
       "\n",
       "               umls_cui  \n",
       "1053  UMLS_CUI:C4014856  \n",
       "2874  UMLS_CUI:C1850718  \n",
       "879   UMLS_CUI:C3810156  \n",
       "1945  UMLS_CUI:C3178805  \n",
       "1681  UMLS_CUI:C3150653  \n",
       "4007  UMLS_CUI:C4225420  \n",
       "1042  UMLS_CUI:C0009447  \n",
       "1081  UMLS_CUI:C3809299  "
      ]
     },
     "execution_count": 10,
     "metadata": {},
     "output_type": "execute_result"
    }
   ],
   "source": [
    "medassn = pd.read_csv(\"https://raw.githubusercontent.com/unmtransinfo/TICTAC/master/output/medline_genetics_condition-gene_associations.tsv\", sep=\"\\t\", usecols=[\"id\", \"GTR\", \"gene-symbol\"])\n",
    "medassn.columns = [\"medline_id\", \"umls_cui\", \"gene_symbol\"]\n",
    "s = medassn['umls_cui'].str.split(',').apply(pd.Series, 1).stack()\n",
    "s.index = s.index.droplevel(-1)\n",
    "s.name = 'umls_cui'\n",
    "del medassn['umls_cui']\n",
    "medassn = medassn.join(s)\n",
    "medassn = medassn.loc[medassn.umls_cui.notna()]\n",
    "medassn[\"umls_cui\"] = medassn[\"umls_cui\"].str.replace(re.compile(r\"^\"), \"UMLS_CUI:\", regex=True)\n",
    "medassn.sample(8)"
   ]
  },
  {
   "cell_type": "markdown",
   "metadata": {
    "id": "74EEv1MVQfXm"
   },
   "source": [
    "### TICTAC CUIs in Medline?\n",
    "\n",
    "These are the conditions for which we examine for agreement and some measure of validation."
   ]
  },
  {
   "cell_type": "code",
   "execution_count": 11,
   "metadata": {
    "colab": {
     "base_uri": "https://localhost:8080/"
    },
    "id": "pjOZlFBvQj6Q",
    "outputId": "9a4da1a0-182e-400b-fa59-309ffd1fd9cd"
   },
   "outputs": [
    {
     "name": "stdout",
     "output_type": "stream",
     "text": [
      "Unique TICTAC CUIs: 2235\n",
      "Unique TICTAC CUIs in Medline associations: 193\n"
     ]
    }
   ],
   "source": [
    "print(f\"\"\"Unique TICTAC CUIs: {tictac2[\"umls_cui\"].unique().size}\"\"\")\n",
    "tictac_cuis = set(tictac2[\"umls_cui\"].to_list())\n",
    "medassn_cuis = set(medassn[\"umls_cui\"].to_list())\n",
    "common_cuis = tictac_cuis & medassn_cuis\n",
    "print(f\"\"\"Unique TICTAC CUIs in Medline associations: {len(common_cuis)}\"\"\")"
   ]
  },
  {
   "cell_type": "code",
   "execution_count": 12,
   "metadata": {
    "colab": {
     "base_uri": "https://localhost:8080/",
     "height": 1000
    },
    "id": "v3gqdEYcWuR7",
    "outputId": "68c881a6-629d-4cbb-c1a5-ef5caef9afd7"
   },
   "outputs": [
    {
     "data": {
      "text/html": [
       "<div>\n",
       "<style scoped>\n",
       "    .dataframe tbody tr th:only-of-type {\n",
       "        vertical-align: middle;\n",
       "    }\n",
       "\n",
       "    .dataframe tbody tr th {\n",
       "        vertical-align: top;\n",
       "    }\n",
       "\n",
       "    .dataframe thead th {\n",
       "        text-align: right;\n",
       "    }\n",
       "</style>\n",
       "<table border=\"1\" class=\"dataframe\">\n",
       "  <thead>\n",
       "    <tr style=\"text-align: right;\">\n",
       "      <th></th>\n",
       "      <th>doid</th>\n",
       "      <th>do_label</th>\n",
       "      <th>umls_cui</th>\n",
       "    </tr>\n",
       "  </thead>\n",
       "  <tbody>\n",
       "    <tr>\n",
       "      <th>6</th>\n",
       "      <td>DOID:1612</td>\n",
       "      <td>breast cancer</td>\n",
       "      <td>UMLS_CUI:C0006142</td>\n",
       "    </tr>\n",
       "    <tr>\n",
       "      <th>506</th>\n",
       "      <td>DOID:9119</td>\n",
       "      <td>acute myeloid leukemia</td>\n",
       "      <td>UMLS_CUI:C0023467</td>\n",
       "    </tr>\n",
       "    <tr>\n",
       "      <th>556</th>\n",
       "      <td>DOID:1909</td>\n",
       "      <td>melanoma</td>\n",
       "      <td>UMLS_CUI:C0025202</td>\n",
       "    </tr>\n",
       "    <tr>\n",
       "      <th>1168</th>\n",
       "      <td>DOID:11612</td>\n",
       "      <td>polycystic ovary syndrome</td>\n",
       "      <td>UMLS_CUI:C0032460</td>\n",
       "    </tr>\n",
       "    <tr>\n",
       "      <th>1237</th>\n",
       "      <td>DOID:2394</td>\n",
       "      <td>ovarian cancer</td>\n",
       "      <td>UMLS_CUI:C1140680</td>\n",
       "    </tr>\n",
       "    <tr>\n",
       "      <th>...</th>\n",
       "      <td>...</td>\n",
       "      <td>...</td>\n",
       "      <td>...</td>\n",
       "    </tr>\n",
       "    <tr>\n",
       "      <th>838785</th>\n",
       "      <td>DOID:649</td>\n",
       "      <td>prion disease</td>\n",
       "      <td>UMLS_CUI:C0162534</td>\n",
       "    </tr>\n",
       "    <tr>\n",
       "      <th>845403</th>\n",
       "      <td>DOID:9271</td>\n",
       "      <td>ornithine carbamoyltransferase deficiency</td>\n",
       "      <td>UMLS_CUI:C0268542</td>\n",
       "    </tr>\n",
       "    <tr>\n",
       "      <th>847878</th>\n",
       "      <td>DOID:14755</td>\n",
       "      <td>argininosuccinic aciduria</td>\n",
       "      <td>UMLS_CUI:C0268547</td>\n",
       "    </tr>\n",
       "    <tr>\n",
       "      <th>865308</th>\n",
       "      <td>DOID:1919</td>\n",
       "      <td>Lesch-Nyhan syndrome</td>\n",
       "      <td>UMLS_CUI:C0023374</td>\n",
       "    </tr>\n",
       "    <tr>\n",
       "      <th>886694</th>\n",
       "      <td>DOID:0111721</td>\n",
       "      <td>amelogenesis imperfecta type 3</td>\n",
       "      <td>UMLS_CUI:C0399376</td>\n",
       "    </tr>\n",
       "  </tbody>\n",
       "</table>\n",
       "<p>193 rows × 3 columns</p>\n",
       "</div>"
      ],
      "text/plain": [
       "                doid                                   do_label  \\\n",
       "6          DOID:1612                              breast cancer   \n",
       "506        DOID:9119                     acute myeloid leukemia   \n",
       "556        DOID:1909                                   melanoma   \n",
       "1168      DOID:11612                  polycystic ovary syndrome   \n",
       "1237       DOID:2394                             ovarian cancer   \n",
       "...              ...                                        ...   \n",
       "838785      DOID:649                              prion disease   \n",
       "845403     DOID:9271  ornithine carbamoyltransferase deficiency   \n",
       "847878    DOID:14755                  argininosuccinic aciduria   \n",
       "865308     DOID:1919                       Lesch-Nyhan syndrome   \n",
       "886694  DOID:0111721             amelogenesis imperfecta type 3   \n",
       "\n",
       "                 umls_cui  \n",
       "6       UMLS_CUI:C0006142  \n",
       "506     UMLS_CUI:C0023467  \n",
       "556     UMLS_CUI:C0025202  \n",
       "1168    UMLS_CUI:C0032460  \n",
       "1237    UMLS_CUI:C1140680  \n",
       "...                   ...  \n",
       "838785  UMLS_CUI:C0162534  \n",
       "845403  UMLS_CUI:C0268542  \n",
       "847878  UMLS_CUI:C0268547  \n",
       "865308  UMLS_CUI:C0023374  \n",
       "886694  UMLS_CUI:C0399376  \n",
       "\n",
       "[193 rows x 3 columns]"
      ]
     },
     "execution_count": 12,
     "metadata": {},
     "output_type": "execute_result"
    }
   ],
   "source": [
    "tictac2.loc[tictac2[\"umls_cui\"].isin(common_cuis)][[\"doid\", \"do_label\", \"umls_cui\"]].drop_duplicates()"
   ]
  },
  {
   "cell_type": "markdown",
   "metadata": {
    "id": "rgvVwEI4SRYa"
   },
   "source": [
    "### TICTAC associations for conditions in Medline Genetics"
   ]
  },
  {
   "cell_type": "code",
   "execution_count": 13,
   "metadata": {
    "colab": {
     "base_uri": "https://localhost:8080/"
    },
    "id": "6LLNis_aScT8",
    "outputId": "e6e103c2-c334-4d4f-f4c4-30c51c66bb0e"
   },
   "outputs": [
    {
     "name": "stdout",
     "output_type": "stream",
     "text": [
      "TICTAC validation set nrows: 63569\n",
      "TICTAC validation set CUIs: 193; gene symbols: 1804; disease-gene associations: 63569\n"
     ]
    }
   ],
   "source": [
    "tictac_validation = tictac2.loc[tictac2[\"umls_cui\"].isin(common_cuis)][[\"umls_cui\", \"gene_symbol\"]].drop_duplicates()\n",
    "print(f\"\"\"TICTAC validation set nrows: {tictac_validation.shape[0]}\"\"\")\n",
    "print(f\"\"\"TICTAC validation set CUIs: {tictac_validation[\"umls_cui\"].unique().size}; gene symbols: {tictac_validation[\"gene_symbol\"].unique().size}; disease-gene associations: {tictac_validation[[\"umls_cui\", \"gene_symbol\"]].shape[0]}\"\"\")"
   ]
  },
  {
   "cell_type": "code",
   "execution_count": 14,
   "metadata": {
    "colab": {
     "base_uri": "https://localhost:8080/",
     "height": 300
    },
    "id": "P6sJgIgJUVHB",
    "outputId": "e3062f32-808d-4882-c933-dd0764b0535d"
   },
   "outputs": [
    {
     "data": {
      "text/html": [
       "<div>\n",
       "<style scoped>\n",
       "    .dataframe tbody tr th:only-of-type {\n",
       "        vertical-align: middle;\n",
       "    }\n",
       "\n",
       "    .dataframe tbody tr th {\n",
       "        vertical-align: top;\n",
       "    }\n",
       "\n",
       "    .dataframe thead th {\n",
       "        text-align: right;\n",
       "    }\n",
       "</style>\n",
       "<table border=\"1\" class=\"dataframe\">\n",
       "  <thead>\n",
       "    <tr style=\"text-align: right;\">\n",
       "      <th></th>\n",
       "      <th>umls_cui</th>\n",
       "      <th>gene_symbol</th>\n",
       "    </tr>\n",
       "  </thead>\n",
       "  <tbody>\n",
       "    <tr>\n",
       "      <th>717700</th>\n",
       "      <td>UMLS_CUI:C0033847</td>\n",
       "      <td>CYP2C9</td>\n",
       "    </tr>\n",
       "    <tr>\n",
       "      <th>866137</th>\n",
       "      <td>UMLS_CUI:C0028326</td>\n",
       "      <td>HCK</td>\n",
       "    </tr>\n",
       "    <tr>\n",
       "      <th>27504</th>\n",
       "      <td>UMLS_CUI:C0003873</td>\n",
       "      <td>DHFR</td>\n",
       "    </tr>\n",
       "    <tr>\n",
       "      <th>851202</th>\n",
       "      <td>UMLS_CUI:C0016952</td>\n",
       "      <td>ABCB11</td>\n",
       "    </tr>\n",
       "    <tr>\n",
       "      <th>623847</th>\n",
       "      <td>UMLS_CUI:C0684249</td>\n",
       "      <td>ABCC10</td>\n",
       "    </tr>\n",
       "    <tr>\n",
       "      <th>887617</th>\n",
       "      <td>UMLS_CUI:C0004943</td>\n",
       "      <td>SRPK3</td>\n",
       "    </tr>\n",
       "    <tr>\n",
       "      <th>855880</th>\n",
       "      <td>UMLS_CUI:C0027121</td>\n",
       "      <td>PDE8A</td>\n",
       "    </tr>\n",
       "    <tr>\n",
       "      <th>120757</th>\n",
       "      <td>UMLS_CUI:C0242383</td>\n",
       "      <td>CYP1A2</td>\n",
       "    </tr>\n",
       "  </tbody>\n",
       "</table>\n",
       "</div>"
      ],
      "text/plain": [
       "                 umls_cui gene_symbol\n",
       "717700  UMLS_CUI:C0033847      CYP2C9\n",
       "866137  UMLS_CUI:C0028326         HCK\n",
       "27504   UMLS_CUI:C0003873        DHFR\n",
       "851202  UMLS_CUI:C0016952      ABCB11\n",
       "623847  UMLS_CUI:C0684249      ABCC10\n",
       "887617  UMLS_CUI:C0004943       SRPK3\n",
       "855880  UMLS_CUI:C0027121       PDE8A\n",
       "120757  UMLS_CUI:C0242383      CYP1A2"
      ]
     },
     "execution_count": 14,
     "metadata": {},
     "output_type": "execute_result"
    }
   ],
   "source": [
    "tictac_validation.sample(8)"
   ]
  },
  {
   "cell_type": "code",
   "execution_count": 15,
   "metadata": {
    "colab": {
     "base_uri": "https://localhost:8080/"
    },
    "id": "fOLBgefjTfZ8",
    "outputId": "15e6cb0e-fc78-4c99-a92b-d915e44e5fea"
   },
   "outputs": [
    {
     "name": "stdout",
     "output_type": "stream",
     "text": [
      "Medline validation set nrows: 1247\n",
      "Medline validation set CUIs: 193; gene symbols: 967; disease-gene associations: 1247\n"
     ]
    }
   ],
   "source": [
    "medline_validation = medassn.loc[medassn[\"umls_cui\"].isin(common_cuis)][[\"umls_cui\", \"gene_symbol\"]].drop_duplicates()\n",
    "print(f\"\"\"Medline validation set nrows: {medline_validation.shape[0]}\"\"\")\n",
    "print(f\"\"\"Medline validation set CUIs: {medline_validation[\"umls_cui\"].unique().size}; gene symbols: {medline_validation[\"gene_symbol\"].unique().size}; disease-gene associations: {medline_validation[[\"umls_cui\", \"gene_symbol\"]].shape[0]}\"\"\")"
   ]
  },
  {
   "cell_type": "markdown",
   "metadata": {
    "id": "JBHr1hblV3I8"
   },
   "source": [
    "### How many and what fraction of Medline associations were found by TICTAC?"
   ]
  },
  {
   "cell_type": "code",
   "execution_count": 16,
   "metadata": {
    "colab": {
     "base_uri": "https://localhost:8080/"
    },
    "id": "QK3sQmRqV_WY",
    "outputId": "5f3f647f-4e70-41cb-b418-886d71ac102d"
   },
   "outputs": [
    {
     "name": "stdout",
     "output_type": "stream",
     "text": [
      "Duplicates: 136; percentage: 10.91%\n"
     ]
    }
   ],
   "source": [
    "combo_validation = pd.concat([tictac_validation, medline_validation])\n",
    "dups = combo_validation.duplicated()\n",
    "dups_count = sum([1 if x else 0 for x in dups])\n",
    "print(f\"\"\"Duplicates: {dups_count}; percentage: {100 * dups_count / medline_validation[[\"umls_cui\", \"gene_symbol\"]].shape[0]:.2f}%\"\"\")"
   ]
  },
  {
   "cell_type": "code",
   "execution_count": 17,
   "metadata": {
    "colab": {
     "base_uri": "https://localhost:8080/",
     "height": 802
    },
    "id": "j-SJWNePYNgS",
    "outputId": "6e0548a2-a616-4871-d685-fd136c21d589"
   },
   "outputs": [
    {
     "data": {
      "text/html": [
       "<div>\n",
       "<style scoped>\n",
       "    .dataframe tbody tr th:only-of-type {\n",
       "        vertical-align: middle;\n",
       "    }\n",
       "\n",
       "    .dataframe tbody tr th {\n",
       "        vertical-align: top;\n",
       "    }\n",
       "\n",
       "    .dataframe thead th {\n",
       "        text-align: right;\n",
       "    }\n",
       "</style>\n",
       "<table border=\"1\" class=\"dataframe\">\n",
       "  <thead>\n",
       "    <tr style=\"text-align: right;\">\n",
       "      <th></th>\n",
       "      <th>umls_cui</th>\n",
       "      <th>gene_symbol</th>\n",
       "    </tr>\n",
       "  </thead>\n",
       "  <tbody>\n",
       "    <tr>\n",
       "      <th>117</th>\n",
       "      <td>UMLS_CUI:C3714976</td>\n",
       "      <td>PIK3CD</td>\n",
       "    </tr>\n",
       "    <tr>\n",
       "      <th>175</th>\n",
       "      <td>UMLS_CUI:C0242383</td>\n",
       "      <td>CFB</td>\n",
       "    </tr>\n",
       "    <tr>\n",
       "      <th>180</th>\n",
       "      <td>UMLS_CUI:C0242383</td>\n",
       "      <td>CX3CR1</td>\n",
       "    </tr>\n",
       "    <tr>\n",
       "      <th>181</th>\n",
       "      <td>UMLS_CUI:C0242383</td>\n",
       "      <td>FRK</td>\n",
       "    </tr>\n",
       "    <tr>\n",
       "      <th>287</th>\n",
       "      <td>UMLS_CUI:C0002395</td>\n",
       "      <td>APP</td>\n",
       "    </tr>\n",
       "    <tr>\n",
       "      <th>...</th>\n",
       "      <td>...</td>\n",
       "      <td>...</td>\n",
       "    </tr>\n",
       "    <tr>\n",
       "      <th>3758</th>\n",
       "      <td>UMLS_CUI:C0036341</td>\n",
       "      <td>DRD2</td>\n",
       "    </tr>\n",
       "    <tr>\n",
       "      <th>3835</th>\n",
       "      <td>UMLS_CUI:C0002895</td>\n",
       "      <td>HBB</td>\n",
       "    </tr>\n",
       "    <tr>\n",
       "      <th>3951</th>\n",
       "      <td>UMLS_CUI:C0221013</td>\n",
       "      <td>KIT</td>\n",
       "    </tr>\n",
       "    <tr>\n",
       "      <th>4031</th>\n",
       "      <td>UMLS_CUI:C0011854</td>\n",
       "      <td>CCR5</td>\n",
       "    </tr>\n",
       "    <tr>\n",
       "      <th>4051</th>\n",
       "      <td>UMLS_CUI:C0009319</td>\n",
       "      <td>ABCB1</td>\n",
       "    </tr>\n",
       "  </tbody>\n",
       "</table>\n",
       "<p>136 rows × 2 columns</p>\n",
       "</div>"
      ],
      "text/plain": [
       "               umls_cui gene_symbol\n",
       "117   UMLS_CUI:C3714976      PIK3CD\n",
       "175   UMLS_CUI:C0242383         CFB\n",
       "180   UMLS_CUI:C0242383      CX3CR1\n",
       "181   UMLS_CUI:C0242383         FRK\n",
       "287   UMLS_CUI:C0002395         APP\n",
       "...                 ...         ...\n",
       "3758  UMLS_CUI:C0036341        DRD2\n",
       "3835  UMLS_CUI:C0002895         HBB\n",
       "3951  UMLS_CUI:C0221013         KIT\n",
       "4031  UMLS_CUI:C0011854        CCR5\n",
       "4051  UMLS_CUI:C0009319       ABCB1\n",
       "\n",
       "[136 rows x 2 columns]"
      ]
     },
     "execution_count": 17,
     "metadata": {},
     "output_type": "execute_result"
    }
   ],
   "source": [
    "combo_validation_dups = combo_validation[dups]\n",
    "combo_validation_dups"
   ]
  },
  {
   "cell_type": "code",
   "execution_count": null,
   "metadata": {
    "id": "5oFbA-2ZW9Ve"
   },
   "outputs": [],
   "source": []
  }
 ],
 "metadata": {
  "colab": {
   "authorship_tag": "ABX9TyM4tGIGbqrj0ga2nKXQ0UBn",
   "include_colab_link": true,
   "provenance": []
  },
  "kernelspec": {
   "display_name": "Python 3 (ipykernel)",
   "language": "python",
   "name": "python3"
  },
  "language_info": {
   "codemirror_mode": {
    "name": "ipython",
    "version": 3
   },
   "file_extension": ".py",
   "mimetype": "text/x-python",
   "name": "python",
   "nbconvert_exporter": "python",
   "pygments_lexer": "ipython3",
   "version": "3.9.12"
  }
 },
 "nbformat": 4,
 "nbformat_minor": 4
}
